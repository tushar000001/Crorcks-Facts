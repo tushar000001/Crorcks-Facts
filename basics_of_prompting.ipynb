{
  "nbformat": 4,
  "nbformat_minor": 0,
  "metadata": {
    "colab": {
      "provenance": [],
      "include_colab_link": true
    },
    "kernelspec": {
      "name": "python3",
      "display_name": "Python 3"
    },
    "language_info": {
      "name": "python"
    }
  },
  "cells": [
    {
      "cell_type": "markdown",
      "metadata": {
        "id": "view-in-github",
        "colab_type": "text"
      },
      "source": [
        "<a href=\"https://colab.research.google.com/github/tushar000001/Crorcks-Facts/blob/main/basics_of_prompting.ipynb\" target=\"_parent\"><img src=\"https://colab.research.google.com/assets/colab-badge.svg\" alt=\"Open In Colab\"/></a>"
      ]
    },
    {
      "cell_type": "markdown",
      "source": [
        "\n",
        "# Prompt Engineering with ChatGPT\n",
        "\n",
        "## Introduction\n",
        "This notebook demonstrates the basics of prompt engineering techniques with OpenAI's ChatGPT. We'll set up the environment, create simple prompts, and gradually move to more advanced techniques.\n",
        "\n"
      ],
      "metadata": {
        "id": "yafDmk2k9kom"
      }
    },
    {
      "cell_type": "code",
      "execution_count": null,
      "metadata": {
        "id": "hX6vN-Gr70gk"
      },
      "outputs": [],
      "source": [
        "# Install required libraries\n",
        "!pip install openai > /dev/null 2>&1 || echo \"Error: Installation failed\"\n"
      ]
    },
    {
      "cell_type": "markdown",
      "source": [
        "# Set up OpenAI api key securely\n",
        "Go to https://openai.com/ and create an api key. You need to spend at least $5 for an openai api key.\n",
        "\n",
        "In the left hand side of colab notebook you will find a key icon that represents 'Secrets'.\n",
        "\n",
        "There, click \"Add new secret\", and in the \"Name\" field write OPENAI_API_KEY, in the Value field copy and paste your openai api key."
      ],
      "metadata": {
        "id": "Cc6ifmrPCWnx"
      }
    },
    {
      "cell_type": "code",
      "source": [
        "# Import necessary modules\n",
        "import openai\n",
        "\n",
        "\n",
        "# Set up OpenAI API key securely\n",
        "from google.colab import userdata\n",
        "\n",
        "# Securely get the API key\n",
        "api_key = userdata.get(\"OPENAI_API_KEY\")\n",
        "\n",
        "# Ensure the API key is set\n",
        "if api_key is None:\n",
        "    raise ValueError(\"Please set the OPENAI_API_KEY in Colab's Secrets (under Tools > Settings > Secrets)\")\n",
        "\n",
        "# Set the API key for OpenAI\n",
        "openai.api_key = api_key\n"
      ],
      "metadata": {
        "id": "JlWP--u1-Bkm"
      },
      "execution_count": null,
      "outputs": []
    },
    {
      "cell_type": "markdown",
      "source": [
        "We are using gpt-4o-mini model.\n",
        "**get_response** is a function to get the response from ChatGPT."
      ],
      "metadata": {
        "id": "l7zOYFvBGVvM"
      }
    },
    {
      "cell_type": "code",
      "source": [
        "from openai import OpenAI\n",
        "client = OpenAI(api_key=api_key)\n",
        "def get_response(prompt, model=\"gpt-4o-mini\"):\n",
        "    messages = [{\"role\": \"user\", \"content\": prompt}]\n",
        "    response = client.chat.completions.create(\n",
        "        model=model,\n",
        "        messages=messages,\n",
        "        temperature=0.1, # this is the degree of randomness of the model's output\n",
        "    )\n",
        "    return response.choices[0].message.content"
      ],
      "metadata": {
        "id": "7rYFCpG8CDNM"
      },
      "execution_count": null,
      "outputs": []
    },
    {
      "cell_type": "markdown",
      "source": [
        "The follow function is to display the response from ChatGPT in a more readable way."
      ],
      "metadata": {
        "id": "RRAs8igINjeN"
      }
    },
    {
      "cell_type": "code",
      "source": [
        "import textwrap\n",
        "from IPython.display import display, Markdown\n",
        "\n",
        "def display_response(response, width=80):\n",
        "    \"\"\"\n",
        "    Display the AI response in a readable format, preserving original line breaks.\n",
        "\n",
        "    Args:\n",
        "    response (str): The text response from the AI.\n",
        "    width (int): The maximum width of each line before wrapping.\n",
        "    \"\"\"\n",
        "    # Split the response into lines\n",
        "    lines = response.split('\\n')\n",
        "\n",
        "    # Wrap each line individually\n",
        "    wrapped_lines = []\n",
        "    for line in lines:\n",
        "        if line.strip() == '':\n",
        "            wrapped_lines.append('')\n",
        "        else:\n",
        "            wrapped_lines.extend(textwrap.wrap(line, width=width))\n",
        "\n",
        "    # Join the wrapped lines\n",
        "    wrapped_text = '\\n'.join(wrapped_lines)\n",
        "\n",
        "    # Add markdown formatting\n",
        "    formatted_text = f\"```\\n{wrapped_text}\\n```\"\n",
        "    #formatted_text = f\"\\n{wrapped_text}\\n\"\n",
        "\n",
        "    # Display as markdown\n",
        "    display(Markdown(formatted_text))\n",
        "\n",
        "\n",
        "def display_input_output(input, output):\n",
        "  print(\"Prompt:\\n\")\n",
        "  display_response(input)\n",
        "  print(\"\\nResponse:\\n\")\n",
        "  display_response(output)"
      ],
      "metadata": {
        "id": "SdQty7T3NY5p"
      },
      "execution_count": null,
      "outputs": []
    },
    {
      "cell_type": "markdown",
      "source": [
        "# Example-1: Insrtruction in the beginning and use delimiters\n",
        "\n",
        "Place clear instructions at the start of your prompt to guide the AI, and use delimiters to separate instructions from the content, reducing confusion and avoiding prompt injection risks.\n",
        "\n",
        "Delimiters can be:\n",
        "\n",
        "triple backsticks\n",
        "\n",
        "double inverted comma\n",
        "\n",
        "single inverted comma\n",
        "\n",
        "etc\n"
      ],
      "metadata": {
        "id": "D988dYNIEeFW"
      }
    },
    {
      "cell_type": "code",
      "source": [
        "content = f\"\"\"Climate change is one of the most pressing global challenges of our time, affecting ecosystems, \\\n",
        "economies, and communities worldwide. Rising global temperatures are leading to more frequent and severe weather events, \\\n",
        "such as hurricanes, floods, and wildfires. These changes are already disrupting agriculture, infrastructure, \\\n",
        "and human health, with particularly devastating effects on vulnerable populations in developing nations. \\\n",
        "In response to these growing threats, international efforts like the Paris Agreement \\\n",
        "aim to limit global warming to below 2°C above pre-industrial levels. \\\n",
        "\n",
        "Key strategies to combat climate change include transitioning to renewable energy sources such as wind, \\\n",
        "solar, and hydropower. These clean energy technologies not only reduce carbon emissions but also create \\\n",
        "new economic opportunities and jobs. Additionally, improving energy efficiency in industries, buildings, \\\n",
        "and transportation can further decrease greenhouse gas emissions. However, despite these advancements, \\\n",
        "many challenges remain. Political disagreements, economic barriers, and lack of public awareness continue to slow progress.\n",
        "\n",
        "Moreover, climate adaptation strategies, such as building resilient infrastructure, improving water management, \\\n",
        "and protecting biodiversity, are equally crucial. As sea levels rise and weather patterns become more unpredictable, \\\n",
        "nations will need to invest in protecting coastal areas and ensuring food and water security. \\\n",
        "Collaboration between governments, private sectors, and communities is essential to implementing these solutions effectively. \\\n",
        "While the path to mitigating climate change is complex, the global momentum for action continues to grow, \\\n",
        "offering hope for a sustainable future.\"\"\"\n",
        "\n",
        "prompt = f\"\"\"Summarize the content, delimited by triple backticks, in 2-3 sentences.\n",
        "\n",
        "content: ```{content}```\n",
        "\"\"\"\n",
        "response = get_response(prompt)\n",
        "display_input_output(prompt, response)"
      ],
      "metadata": {
        "id": "D6oZQ9LhCEcw",
        "colab": {
          "base_uri": "https://localhost:8080/",
          "height": 730
        },
        "outputId": "73763719-6c0c-4e80-fed8-346003d65548"
      },
      "execution_count": null,
      "outputs": [
        {
          "output_type": "stream",
          "name": "stdout",
          "text": [
            "Prompt:\n",
            "\n"
          ]
        },
        {
          "output_type": "display_data",
          "data": {
            "text/plain": [
              "<IPython.core.display.Markdown object>"
            ],
            "text/markdown": "```\nSummarize the content, delimited by triple backticks, in 2-3 sentences.\n\ncontent: ```Climate change is one of the most pressing global challenges of our\ntime, affecting ecosystems, economies, and communities worldwide. Rising global\ntemperatures are leading to more frequent and severe weather events, such as\nhurricanes, floods, and wildfires. These changes are already disrupting\nagriculture, infrastructure, and human health, with particularly devastating\neffects on vulnerable populations in developing nations. In response to these\ngrowing threats, international efforts like the Paris Agreement aim to limit\nglobal warming to below 2°C above pre-industrial levels.\nKey strategies to combat climate change include transitioning to renewable\nenergy sources such as wind, solar, and hydropower. These clean energy\ntechnologies not only reduce carbon emissions but also create new economic\nopportunities and jobs. Additionally, improving energy efficiency in industries,\nbuildings, and transportation can further decrease greenhouse gas emissions.\nHowever, despite these advancements, many challenges remain. Political\ndisagreements, economic barriers, and lack of public awareness continue to slow\nprogress.\n\nMoreover, climate adaptation strategies, such as building resilient\ninfrastructure, improving water management, and protecting biodiversity, are\nequally crucial. As sea levels rise and weather patterns become more\nunpredictable, nations will need to invest in protecting coastal areas and\nensuring food and water security. Collaboration between governments, private\nsectors, and communities is essential to implementing these solutions\neffectively. While the path to mitigating climate change is complex, the global\nmomentum for action continues to grow, offering hope for a sustainable\nfuture.```\n\n```"
          },
          "metadata": {}
        },
        {
          "output_type": "stream",
          "name": "stdout",
          "text": [
            "\n",
            "Response:\n",
            "\n"
          ]
        },
        {
          "output_type": "display_data",
          "data": {
            "text/plain": [
              "<IPython.core.display.Markdown object>"
            ],
            "text/markdown": "```\nClimate change poses significant threats to ecosystems, economies, and\ncommunities, leading to severe weather events and disruptions in agriculture and\nhealth, particularly in vulnerable populations. International initiatives like\nthe Paris Agreement aim to limit global warming, while strategies such as\ntransitioning to renewable energy and improving energy efficiency are essential\nfor reducing emissions. Additionally, climate adaptation measures and\ncollaboration among various sectors are crucial for addressing the challenges\nposed by climate change and ensuring a sustainable future.\n```"
          },
          "metadata": {}
        }
      ]
    },
    {
      "cell_type": "code",
      "source": [
        "## A different prompt\n",
        "prompt = f\"\"\"Summarize the content delimited by <> in 3-4 bullet points. Use a new line to begin a bullet point. Please be concise and to the brief.\n",
        "\n",
        "content: <{content}>\n",
        "\"\"\"\n",
        "response = get_response(prompt)\n",
        "display_input_output(prompt, response)"
      ],
      "metadata": {
        "id": "Y0yes2LFKtgN",
        "colab": {
          "base_uri": "https://localhost:8080/",
          "height": 817
        },
        "outputId": "bc923fac-4cad-4147-83fe-c39f5ce9229a"
      },
      "execution_count": null,
      "outputs": [
        {
          "output_type": "stream",
          "name": "stdout",
          "text": [
            "Prompt:\n",
            "\n"
          ]
        },
        {
          "output_type": "display_data",
          "data": {
            "text/plain": [
              "<IPython.core.display.Markdown object>"
            ],
            "text/markdown": "```\nSummarize the content delimited by <> in 3-4 bullet points. Use a new line to\nbegin a bullet point. Please be concise and to the brief.\n\ncontent: <Climate change is one of the most pressing global challenges of our\ntime, affecting ecosystems, economies, and communities worldwide. Rising global\ntemperatures are leading to more frequent and severe weather events, such as\nhurricanes, floods, and wildfires. These changes are already disrupting\nagriculture, infrastructure, and human health, with particularly devastating\neffects on vulnerable populations in developing nations. In response to these\ngrowing threats, international efforts like the Paris Agreement aim to limit\nglobal warming to below 2°C above pre-industrial levels.\nKey strategies to combat climate change include transitioning to renewable\nenergy sources such as wind, solar, and hydropower. These clean energy\ntechnologies not only reduce carbon emissions but also create new economic\nopportunities and jobs. Additionally, improving energy efficiency in industries,\nbuildings, and transportation can further decrease greenhouse gas emissions.\nHowever, despite these advancements, many challenges remain. Political\ndisagreements, economic barriers, and lack of public awareness continue to slow\nprogress.\n\nMoreover, climate adaptation strategies, such as building resilient\ninfrastructure, improving water management, and protecting biodiversity, are\nequally crucial. As sea levels rise and weather patterns become more\nunpredictable, nations will need to invest in protecting coastal areas and\nensuring food and water security. Collaboration between governments, private\nsectors, and communities is essential to implementing these solutions\neffectively. While the path to mitigating climate change is complex, the global\nmomentum for action continues to grow, offering hope for a sustainable future.>\n\n```"
          },
          "metadata": {}
        },
        {
          "output_type": "stream",
          "name": "stdout",
          "text": [
            "\n",
            "Response:\n",
            "\n"
          ]
        },
        {
          "output_type": "display_data",
          "data": {
            "text/plain": [
              "<IPython.core.display.Markdown object>"
            ],
            "text/markdown": "```\n- Climate change poses significant threats to ecosystems, economies, and\nvulnerable communities, particularly in developing nations, due to rising\ntemperatures and extreme weather events.\n\n- International initiatives like the Paris Agreement aim to limit global warming\nto below 2°C, while strategies include transitioning to renewable energy and\nimproving energy efficiency.\n\n- Climate adaptation measures, such as resilient infrastructure and water\nmanagement, are vital as sea levels rise and weather patterns shift.\n\n- Effective solutions require collaboration among governments, private sectors,\nand communities, despite ongoing political and economic challenges.\n```"
          },
          "metadata": {}
        }
      ]
    },
    {
      "cell_type": "code",
      "source": [
        "## Try different prompt\n",
        "\n",
        "#prompt = f\"\"\" Write your prompt\"\"\"\n",
        "#response = get_response(prompt)\n",
        "#display_input_output(prompt, response)"
      ],
      "metadata": {
        "id": "RSFlk55sxRIC"
      },
      "execution_count": null,
      "outputs": []
    },
    {
      "cell_type": "markdown",
      "source": [
        "# Example-2: Ask for a structured output\n",
        "\n",
        "In many cases, especially when dealing with complex data or information that needs to be processed programmatically, it’s helpful to request output in a structured format like JSON. By doing so, we can guide the AI to organize the response into clearly defined fields that make it easy to parse, store, or analyze. JSON is particularly useful in applications where structured data is required, such as APIs, databases, or when integrating with other software systems."
      ],
      "metadata": {
        "id": "F-6ljO6GyYGz"
      }
    },
    {
      "cell_type": "code",
      "source": [
        "text = f\"\"\"As the world shifts towards sustainability, electric vehicles (EVs) are becoming increasingly prominent. \\\n",
        "They not only reduce greenhouse gas emissions but also offer lower operating costs compared to traditional gasoline \\\n",
        "vehicles. Many major automotive manufacturers are investing heavily in EV technology, leading to a \\\n",
        "wider range of models and improvements in battery technology, which now allows for longer ranges and faster \\\n",
        "charging times. However, significant challenges remain, including the need for more extensive charging infrastructure, \\\n",
        "the environmental impact of battery production, and the high upfront costs associated with purchasing \\\n",
        "an electric vehicle. Addressing these challenges is crucial for ensuring the widespread adoption of EVs and achieving global climate goals.\"\"\"\n",
        "\n",
        "prompt = f\"\"\"Extract the following details from the text, delimited by single inverted commas, and return them in JSON format:\n",
        "\n",
        "    Title of the article\n",
        "    Main topic\n",
        "    3 Key points\n",
        "    Conclusion\n",
        "\n",
        "    Text = '{text}'\n",
        "    \"\"\"\n",
        "response = get_response(prompt)\n",
        "display_input_output(prompt, response)"
      ],
      "metadata": {
        "id": "DNpm5sprxTsS",
        "colab": {
          "base_uri": "https://localhost:8080/",
          "height": 742
        },
        "outputId": "94069e3c-b75d-408f-e8a7-b0b3f8d34fc7"
      },
      "execution_count": null,
      "outputs": [
        {
          "output_type": "stream",
          "name": "stdout",
          "text": [
            "Prompt:\n",
            "\n"
          ]
        },
        {
          "output_type": "display_data",
          "data": {
            "text/plain": [
              "<IPython.core.display.Markdown object>"
            ],
            "text/markdown": "```\nExtract the following details from the text, delimited by single inverted\ncommas, and return them in JSON format:\n\n    Title of the article\n    Main topic\n    3 Key points\n    Conclusion\n\n    Text = 'As the world shifts towards sustainability, electric vehicles (EVs)\nare becoming increasingly prominent. They not only reduce greenhouse gas\nemissions but also offer lower operating costs compared to traditional gasoline\nvehicles. Many major automotive manufacturers are investing heavily in EV\ntechnology, leading to a wider range of models and improvements in battery\ntechnology, which now allows for longer ranges and faster charging times.\nHowever, significant challenges remain, including the need for more extensive\ncharging infrastructure, the environmental impact of battery production, and the\nhigh upfront costs associated with purchasing an electric vehicle. Addressing\nthese challenges is crucial for ensuring the widespread adoption of EVs and\nachieving global climate goals.'\n\n```"
          },
          "metadata": {}
        },
        {
          "output_type": "stream",
          "name": "stdout",
          "text": [
            "\n",
            "Response:\n",
            "\n"
          ]
        },
        {
          "output_type": "display_data",
          "data": {
            "text/plain": [
              "<IPython.core.display.Markdown object>"
            ],
            "text/markdown": "```\n```json\n{\n    \"Title of the article\": \"The Rise of Electric Vehicles in a Sustainable\nFuture\",\n    \"Main topic\": \"Electric Vehicles and Sustainability\",\n    \"Key points\": [\n        \"Electric vehicles reduce greenhouse gas emissions and offer lower\noperating costs.\",\n        \"Automotive manufacturers are heavily investing in EV technology,\nimproving models and battery technology.\",\n        \"Challenges include the need for charging infrastructure, environmental\nimpact of battery production, and high upfront costs.\"\n    ],\n    \"Conclusion\": \"Addressing these challenges is crucial for ensuring the\nwidespread adoption of EVs and achieving global climate goals.\"\n}\n```\n```"
          },
          "metadata": {}
        }
      ]
    },
    {
      "cell_type": "markdown",
      "source": [
        "# Example-3: Extract the instructions in a step-by-step manner"
      ],
      "metadata": {
        "id": "afWHpw7VFG-9"
      }
    },
    {
      "cell_type": "code",
      "source": [
        "text = f\"\"\"Baking a chocolate cake at home is a delightful endeavor that fills your kitchen with the comforting aroma of \\\n",
        "chocolate and results in a delicious treat to share with family and friends. \\\n",
        "To begin, gather the necessary ingredients: for the dry components, you will need one and three-quarters cups of all-purpose flour, \\\n",
        "one and a half cups of granulated sugar, three-quarters of a cup of unsweetened cocoa powder, one \\\n",
        "and a half teaspoons of baking powder, one and a half teaspoons of baking soda, and one teaspoon of salt. \\\n",
        "For the wet ingredients, prepare two large eggs, one cup of whole milk, half a cup of vegetable oil, two teaspoons of vanilla extract, and one cup of boiling water.\n",
        "\n",
        "Start the process by preheating your oven to 350°F (175°C). This step is crucial, \\\n",
        "as it ensures that your cake bakes evenly throughout. While the oven heats up, \\\n",
        "grease and flour two 9-inch round cake pans, which will prevent the cake from sticking \\\n",
        "and allow for easy removal once baked. You can also line the bottoms of the pans with parchment paper for extra assurance.\n",
        "\n",
        "In a large mixing bowl, sift together the flour, sugar, cocoa powder, \\\n",
        "baking powder, baking soda, and salt. Sifting not only combines the ingredients but also \\\n",
        "aerates the flour, which contributes to a light and fluffy cake. Create a well in the \\\n",
        "center of this dry mixture, and add the eggs, milk, vegetable oil, and vanilla extract. \\\n",
        "Using a hand mixer or a whisk, mix the ingredients on medium speed for about two minutes. \\\n",
        "At this point, the batter will be thick, which is perfectly normal.\n",
        "\n",
        "Next, carefully stir in the boiling water. This unusual step enhances the \\\n",
        "chocolate flavor and creates a smoother batter. The batter will now be thin, \\\n",
        "but that’s just what you want. Divide the batter evenly between the prepared cake pans, \\\n",
        "and place them in the preheated oven. Bake for 30 to 35 minutes, or until a toothpick \\\n",
        "inserted in the center comes out clean. Keep an eye on the cakes, as baking times may vary depending on your oven.\n",
        "\n",
        "Once baked, remove the cakes from the oven and let them cool in the pans for about ten minutes. \\\n",
        "After that, carefully turn them out onto a wire rack to cool completely. It is essential to \\\n",
        "allow the cakes to cool completely to ensure proper frosting. While the cakes are cooling, \\\n",
        "you can prepare a simple chocolate frosting. For a classic buttercream, beat together half a cup of softened butter, \\\n",
        "two-thirds of a cup of cocoa powder, and three cups of powdered sugar, adding a few tablespoons of milk as needed to achieve a smooth consistency.\n",
        "\n",
        "Once the cakes are completely cool, spread the frosting between the layers and over the top and sides of the cake. \\\n",
        "Finally, slice the cake and serve it to your family and friends, enjoying the rich chocolate flavor \\\n",
        "that will surely leave everyone asking for seconds. Baking a chocolate cake at home is not only a \\\n",
        "rewarding experience but also a wonderful way to bring joy to those around you. With a few simple \\\n",
        "ingredients and steps, you can create a decadent dessert that will be cherished by all.\n",
        "\"\"\"\n",
        "\n",
        "prompt = f\"\"\"You will receive a block of text enclosed in triple quotes. \\\n",
        "Your task is to analyze this text for any sequences of instructions. \\\n",
        "If the text contains clear, actionable instructions, re-write those instructions in a structured step-by-step format as follows:\n",
        "\n",
        "    Step 1: Describe the first action or instruction clearly.\n",
        "    Step 2: Describe the second action or instruction clearly.\n",
        "    ...\n",
        "    Step N: Describe the final action or instruction clearly.\n",
        "\n",
        "Each step should begin with \\\"Step\\\" followed by the corresponding number and a colon. Ensure that the instructions are concise and easy to understand.\n",
        "\n",
        "If the text does not contain a sequence of instructions or actionable steps, simply respond with the phrase \\\"No steps provided.\\\"\n",
        "\n",
        "Here is the text for analysis: \\\"\\\"\\\"{text}\\\"\\\"\\\"\n",
        "\"\"\"\n",
        "\n",
        "response = get_response(prompt)\n",
        "display_input_output(prompt, response)\n"
      ],
      "metadata": {
        "id": "P_iZy_6v0IOP",
        "colab": {
          "base_uri": "https://localhost:8080/",
          "height": 1000
        },
        "outputId": "598be29d-8f34-4c14-bc0a-71d4f342e25d"
      },
      "execution_count": null,
      "outputs": [
        {
          "output_type": "stream",
          "name": "stdout",
          "text": [
            "Prompt:\n",
            "\n"
          ]
        },
        {
          "output_type": "display_data",
          "data": {
            "text/plain": [
              "<IPython.core.display.Markdown object>"
            ],
            "text/markdown": "```\nYou will receive a block of text enclosed in triple quotes. Your task is to\nanalyze this text for any sequences of instructions. If the text contains clear,\nactionable instructions, re-write those instructions in a structured step-by-\nstep format as follows:\n\n    Step 1: Describe the first action or instruction clearly.\n    Step 2: Describe the second action or instruction clearly.\n    ...\n    Step N: Describe the final action or instruction clearly.\n\nEach step should begin with \"Step\" followed by the corresponding number and a\ncolon. Ensure that the instructions are concise and easy to understand.\n\nIf the text does not contain a sequence of instructions or actionable steps,\nsimply respond with the phrase \"No steps provided.\"\n\nHere is the text for analysis: \"\"\"Baking a chocolate cake at home is a\ndelightful endeavor that fills your kitchen with the comforting aroma of\nchocolate and results in a delicious treat to share with family and friends. To\nbegin, gather the necessary ingredients: for the dry components, you will need\none and three-quarters cups of all-purpose flour, one and a half cups of\ngranulated sugar, three-quarters of a cup of unsweetened cocoa powder, one and a\nhalf teaspoons of baking powder, one and a half teaspoons of baking soda, and\none teaspoon of salt. For the wet ingredients, prepare two large eggs, one cup\nof whole milk, half a cup of vegetable oil, two teaspoons of vanilla extract,\nand one cup of boiling water.\n\nStart the process by preheating your oven to 350°F (175°C). This step is\ncrucial, as it ensures that your cake bakes evenly throughout. While the oven\nheats up, grease and flour two 9-inch round cake pans, which will prevent the\ncake from sticking and allow for easy removal once baked. You can also line the\nbottoms of the pans with parchment paper for extra assurance.\n\nIn a large mixing bowl, sift together the flour, sugar, cocoa powder, baking\npowder, baking soda, and salt. Sifting not only combines the ingredients but\nalso aerates the flour, which contributes to a light and fluffy cake. Create a\nwell in the center of this dry mixture, and add the eggs, milk, vegetable oil,\nand vanilla extract. Using a hand mixer or a whisk, mix the ingredients on\nmedium speed for about two minutes. At this point, the batter will be thick,\nwhich is perfectly normal.\n\nNext, carefully stir in the boiling water. This unusual step enhances the\nchocolate flavor and creates a smoother batter. The batter will now be thin, but\nthat’s just what you want. Divide the batter evenly between the prepared cake\npans, and place them in the preheated oven. Bake for 30 to 35 minutes, or until\na toothpick inserted in the center comes out clean. Keep an eye on the cakes, as\nbaking times may vary depending on your oven.\n\nOnce baked, remove the cakes from the oven and let them cool in the pans for\nabout ten minutes. After that, carefully turn them out onto a wire rack to cool\ncompletely. It is essential to allow the cakes to cool completely to ensure\nproper frosting. While the cakes are cooling, you can prepare a simple chocolate\nfrosting. For a classic buttercream, beat together half a cup of softened\nbutter, two-thirds of a cup of cocoa powder, and three cups of powdered sugar,\nadding a few tablespoons of milk as needed to achieve a smooth consistency.\n\nOnce the cakes are completely cool, spread the frosting between the layers and\nover the top and sides of the cake. Finally, slice the cake and serve it to your\nfamily and friends, enjoying the rich chocolate flavor that will surely leave\neveryone asking for seconds. Baking a chocolate cake at home is not only a\nrewarding experience but also a wonderful way to bring joy to those around you.\nWith a few simple ingredients and steps, you can create a decadent dessert that\nwill be cherished by all.\n\"\"\"\n\n```"
          },
          "metadata": {}
        },
        {
          "output_type": "stream",
          "name": "stdout",
          "text": [
            "\n",
            "Response:\n",
            "\n"
          ]
        },
        {
          "output_type": "display_data",
          "data": {
            "text/plain": [
              "<IPython.core.display.Markdown object>"
            ],
            "text/markdown": "```\nStep 1: Gather the necessary ingredients: 1¾ cups all-purpose flour, 1½ cups\ngranulated sugar, ¾ cup unsweetened cocoa powder, 1½ teaspoons baking powder, 1½\nteaspoons baking soda, 1 teaspoon salt, 2 large eggs, 1 cup whole milk, ½ cup\nvegetable oil, 2 teaspoons vanilla extract, and 1 cup boiling water.\n\nStep 2: Preheat your oven to 350°F (175°C).\n\nStep 3: Grease and flour two 9-inch round cake pans, and optionally line the\nbottoms with parchment paper.\n\nStep 4: In a large mixing bowl, sift together the flour, sugar, cocoa powder,\nbaking powder, baking soda, and salt.\n\nStep 5: Create a well in the center of the dry mixture and add the eggs, milk,\nvegetable oil, and vanilla extract.\n\nStep 6: Mix the ingredients on medium speed for about two minutes using a hand\nmixer or whisk until the batter is thick.\n\nStep 7: Carefully stir in the boiling water to enhance the chocolate flavor and\ncreate a smoother batter.\n\nStep 8: Divide the batter evenly between the prepared cake pans.\n\nStep 9: Place the cake pans in the preheated oven and bake for 30 to 35 minutes,\nor until a toothpick inserted in the center comes out clean.\n\nStep 10: Once baked, remove the cakes from the oven and let them cool in the\npans for about ten minutes.\n\nStep 11: Carefully turn the cakes out onto a wire rack to cool completely.\n\nStep 12: While the cakes are cooling, prepare the chocolate frosting by beating\ntogether ½ cup softened butter, ⅔ cup cocoa powder, and 3 cups powdered sugar,\nadding milk as needed for a smooth consistency.\n\nStep 13: Once the cakes are completely cool, spread the frosting between the\nlayers and over the top and sides of the cake.\n\nStep 14: Slice the cake and serve it to your family and friends.\n```"
          },
          "metadata": {}
        }
      ]
    },
    {
      "cell_type": "markdown",
      "source": [
        "# A project: Automated Customer Email Response System\n",
        "\n",
        "This project is to build an AI-driven automated email replying service designed to streamline customer support interactions.\n",
        "The system analyzes incoming customer reviews to determine sentiment, identifies specific concerns or praises,\n",
        "and crafts personalized responses accordingly. By adjusting the tone—whether reassuring for negative feedback or\n",
        "appreciative for positive remarks—SmartReply addresses each customer's unique needs while saving time for support teams.\n",
        "This service aims to enhance customer satisfaction, ensuring timely and empathetic communication with minimal manual intervention."
      ],
      "metadata": {
        "id": "CW89EOBUZglS"
      }
    },
    {
      "cell_type": "code",
      "source": [
        "# the product did not meet the expectation of the customer\n",
        "review_1 = f\"\"\"I had high expectations for this water purifier, but it didn’t meet them. The filtration doesn’t \\\n",
        "seem as thorough as advertised, and the water quality is only marginally better than tap water. \\\n",
        "For the price, I expected much more.\"\"\"\n",
        "\n",
        "\n",
        "# the product was not in a working condition\n",
        "review_2 = f\"\"\" This has been an extremely disappointing experience! The water purifier arrived completely \\\n",
        "defective—it doesn’t turn on at all. I’ve tried contacting customer support multiple times \\\n",
        "but haven’t received a solution. This is unacceptable!\"\"\"\n",
        "\n",
        "#customer is satisfied\n",
        "review_3 = f\"\"\" I’m really pleased with this water purifier. It was easy to install, \\\n",
        "and I can taste the difference in water quality—it’s so much fresher! \\\n",
        "Definitely worth the investment for clean and safe water.\"\"\"\n",
        "\n",
        "reviews = [review_1, review_2, review_3]"
      ],
      "metadata": {
        "id": "t2sGkoKXY998"
      },
      "execution_count": null,
      "outputs": []
    },
    {
      "cell_type": "code",
      "source": [
        "\n",
        "for review in reviews:\n",
        "  prompt = f\"\"\"Take the following customer review, delimited by triple backsticks, analyze its sentiment, and generate a thoughtful reply. \\\n",
        "Adjust the tone based on the sentiment: adopt a reassuring and solution-oriented tone if negative, \\\n",
        "a grateful and appreciative tone if positive, and a professional, neutral tone if the feedback is mixed. \\\n",
        "In the reply:\n",
        "\n",
        "    Acknowledge the customer’s input by summarizing their main points.\n",
        "    Directly address any specific concerns mentioned in the review, providing clear explanations, apologies if needed, and steps the company is taking to resolve or improve.\n",
        "    Express gratitude for positive feedback, if present, and mention any aspects the customer seemed pleased with.\n",
        "    End on a positive note, inviting the customer to further engage with the company if they have additional questions or feedback.\n",
        "\n",
        "Input format:\n",
        "Customer Review: ```{review}```\n",
        "\n",
        "Output format:\n",
        "Emotion: Sentiment of the review\n",
        "Reply Email: Generate a 3-5 sentence professional email following the outlined guidelines above.\n",
        "\"\"\"\n",
        "  response = get_response(prompt)\n",
        "  print(\"===================================================\")\n",
        "  print(\"Review: \\n\")\n",
        "  display_response(review)\n",
        "  print(\"\\nResponse: \\n\")\n",
        "  display_response(response)\n"
      ],
      "metadata": {
        "id": "qq41asYAabQY",
        "colab": {
          "base_uri": "https://localhost:8080/",
          "height": 1000
        },
        "outputId": "b6e25b51-76a5-43cc-c10f-a139671e3ee0"
      },
      "execution_count": null,
      "outputs": [
        {
          "output_type": "stream",
          "name": "stdout",
          "text": [
            "===================================================\n",
            "Review: \n",
            "\n"
          ]
        },
        {
          "output_type": "display_data",
          "data": {
            "text/plain": [
              "<IPython.core.display.Markdown object>"
            ],
            "text/markdown": "```\nI had high expectations for this water purifier, but it didn’t meet them. The\nfiltration doesn’t seem as thorough as advertised, and the water quality is only\nmarginally better than tap water. For the price, I expected much more.\n```"
          },
          "metadata": {}
        },
        {
          "output_type": "stream",
          "name": "stdout",
          "text": [
            "\n",
            "Response: \n",
            "\n"
          ]
        },
        {
          "output_type": "display_data",
          "data": {
            "text/plain": [
              "<IPython.core.display.Markdown object>"
            ],
            "text/markdown": "```\nEmotion: Negative\n\nReply Email:\n\nDear Customer,\n\nThank you for sharing your feedback regarding your experience with our water\npurifier. We understand your disappointment with the filtration performance and\nthe water quality not meeting your expectations. We sincerely apologize for any\ninconvenience this has caused and want to assure you that we are actively\nreviewing our filtration processes to enhance product effectiveness. Your\ninsights are invaluable to us, and we appreciate your input as it helps us\nimprove. If you have any further questions or concerns, please feel free to\nreach out to us directly.\n\nBest regards,\n[Your Name]\n[Your Position]\n[Company Name]\n```"
          },
          "metadata": {}
        },
        {
          "output_type": "stream",
          "name": "stdout",
          "text": [
            "===================================================\n",
            "Review: \n",
            "\n"
          ]
        },
        {
          "output_type": "display_data",
          "data": {
            "text/plain": [
              "<IPython.core.display.Markdown object>"
            ],
            "text/markdown": "```\n This has been an extremely disappointing experience! The water purifier arrived\ncompletely defective—it doesn’t turn on at all. I’ve tried contacting customer\nsupport multiple times but haven’t received a solution. This is unacceptable!\n```"
          },
          "metadata": {}
        },
        {
          "output_type": "stream",
          "name": "stdout",
          "text": [
            "\n",
            "Response: \n",
            "\n"
          ]
        },
        {
          "output_type": "display_data",
          "data": {
            "text/plain": [
              "<IPython.core.display.Markdown object>"
            ],
            "text/markdown": "```\nEmotion: Negative\n\nReply Email:\n\nDear Customer,\n\nThank you for taking the time to share your experience with us. I sincerely\napologize for the inconvenience you've faced with your water purifier arriving\ndefective and the lack of response from our customer support team. This is\ncertainly not the level of service we strive to provide. We are currently\nreviewing our support processes to ensure timely assistance for our customers.\nPlease reach out to us directly at [support email/phone number], and we will\nprioritize resolving this issue for you. Your satisfaction is important to us,\nand we appreciate your patience as we work to make this right.\n\nBest regards,\n[Your Name]\n[Your Position]\n[Company Name]\n```"
          },
          "metadata": {}
        },
        {
          "output_type": "stream",
          "name": "stdout",
          "text": [
            "===================================================\n",
            "Review: \n",
            "\n"
          ]
        },
        {
          "output_type": "display_data",
          "data": {
            "text/plain": [
              "<IPython.core.display.Markdown object>"
            ],
            "text/markdown": "```\n I’m really pleased with this water purifier. It was easy to install, and I can\ntaste the difference in water quality—it’s so much fresher! Definitely worth the\ninvestment for clean and safe water.\n```"
          },
          "metadata": {}
        },
        {
          "output_type": "stream",
          "name": "stdout",
          "text": [
            "\n",
            "Response: \n",
            "\n"
          ]
        },
        {
          "output_type": "display_data",
          "data": {
            "text/plain": [
              "<IPython.core.display.Markdown object>"
            ],
            "text/markdown": "```\nEmotion: Positive\n\nReply Email:\n\nDear Valued Customer,\n\nThank you so much for your wonderful feedback regarding our water purifier!\nWe're thrilled to hear that you found the installation process easy and that you\ncan taste the difference in water quality. Your satisfaction is our top\npriority, and it's rewarding to know that you feel the investment was worthwhile\nfor clean and safe water. If you have any further questions or feedback, please\ndon't hesitate to reach out. We appreciate your support!\n\nBest regards,\n[Your Name]\n[Your Position]\n[Company Name]\n```"
          },
          "metadata": {}
        }
      ]
    },
    {
      "cell_type": "code",
      "source": [],
      "metadata": {
        "id": "-zRtAt06Jduj"
      },
      "execution_count": null,
      "outputs": []
    }
  ]
}